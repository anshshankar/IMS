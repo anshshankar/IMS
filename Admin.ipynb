{
 "cells": [
  {
   "cell_type": "markdown",
   "id": "0eb3d5bf",
   "metadata": {},
   "source": [
    "This is Admin Section\n"
   ]
  },
  {
   "cell_type": "code",
   "execution_count": 1,
   "id": "561c957a",
   "metadata": {},
   "outputs": [],
   "source": [
    "import json"
   ]
  },
  {
   "cell_type": "markdown",
   "id": "effbc7a0",
   "metadata": {},
   "source": [
    "Intializing all json Files"
   ]
  },
  {
   "cell_type": "code",
   "execution_count": 19,
   "id": "eeda78c7",
   "metadata": {},
   "outputs": [],
   "source": [
    "fd=open(\"record.json\",\"w\")\n",
    "fd.close()"
   ]
  },
  {
   "cell_type": "code",
   "execution_count": 3,
   "id": "c1ccd64e",
   "metadata": {},
   "outputs": [],
   "source": [
    "fd=open(\"sales.json\",\"w\")\n",
    "fd.close()"
   ]
  },
  {
   "cell_type": "code",
   "execution_count": 4,
   "id": "977e01a6",
   "metadata": {},
   "outputs": [],
   "source": [
    "fd=open(\"transactions.json\",\"w\")\n",
    "fd.close()"
   ]
  },
  {
   "cell_type": "markdown",
   "id": "6472e3cf",
   "metadata": {},
   "source": [
    "Function for adding new items in record.json file"
   ]
  },
  {
   "cell_type": "code",
   "execution_count": 46,
   "id": "578cf052",
   "metadata": {},
   "outputs": [],
   "source": [
    "def add():\n",
    "    proid=int(input(\"Enter New Product id: \"))\n",
    "    name=input(\"Enter New Product Name \")\n",
    "    rate=int(input(\"Enter New Product Rate: \"))\n",
    "    quant=int(input(\"Enter New Product Quantity: \"))\n",
    "        \n",
    "    fd=open(\"record.json\",\"r\")\n",
    "    a=fd.read()\n",
    "    fd.close()\n",
    "    records=json.loads(a)\n",
    "    records[proid]={\"name\":name, \"rate\":rate, \"quant\":quant}\n",
    "    re=json.dumps(records)\n",
    "    \n",
    "    fd=open(\"record.json\",\"w\")\n",
    "    fd.write(re)\n",
    "    fd.close()"
   ]
  },
  {
   "cell_type": "markdown",
   "id": "d70b17b4",
   "metadata": {},
   "source": [
    "Function For Appending to Existing Stock"
   ]
  },
  {
   "cell_type": "code",
   "execution_count": 6,
   "id": "a047096e",
   "metadata": {},
   "outputs": [],
   "source": [
    "def appendit():\n",
    "    proid=int(input(\"Enter Product id: \"))\n",
    "    rate=int(input(\"Enter the Latest Rate of Product: \"))\n",
    "    quan=int(input(\"Enter the Quantity to be updated. Enter preffix '-' if Quantity is to be Reduced: \"))\n",
    "    fd=open(\"record.json\",\"r\")\n",
    "    r=fd.read()\n",
    "    fd.close()\n",
    "    dic=json.loads(r)\n",
    "    for i in dic.keys():\n",
    "        if(int(i)==proid):\n",
    "            dic[i]['quant']=int(dic[i]['quant'])+quan\n",
    "            dic[i][rate]=rate\n",
    "            break\n",
    "    else:\n",
    "        print(\"The Product doesn't Exist\")\n",
    "    js=json.dumps(dic)\n",
    "    fd=open(\"record.json\",\"w\")\n",
    "    fd.write(js)\n",
    "    fd.close()\n",
    "        \n",
    "                \n",
    "        \n",
    "    "
   ]
  },
  {
   "cell_type": "markdown",
   "id": "b4e3eccc",
   "metadata": {},
   "source": [
    "For SHowing Existing Products"
   ]
  },
  {
   "cell_type": "code",
   "execution_count": 10,
   "id": "c658e342",
   "metadata": {},
   "outputs": [],
   "source": [
    "def show():\n",
    "    fd=open(\"record.json\",\"r\")\n",
    "    re=fd.read()\n",
    "    record=json.loads(re)\n",
    "    fd.close()\n",
    "    print (\"{:<10} {:<10} {:<10} {:<10}\".format('Prod_id', 'Name', 'Rate', 'Quantity'))\n",
    "    for i in record.keys():\n",
    "        print (\"{:<10} {:<10} {:<10} {:<10}\".format(i,record[i]['name'], record[i]['rate'], record[i]['quant']))"
   ]
  },
  {
   "cell_type": "markdown",
   "id": "8faa239f",
   "metadata": {},
   "source": [
    "Now Input from admin "
   ]
  },
  {
   "cell_type": "code",
   "execution_count": 50,
   "id": "1b85b711",
   "metadata": {},
   "outputs": [
    {
     "name": "stdout",
     "output_type": "stream",
     "text": [
      "Enter 1 For adding New Item\n",
      "Enter 2 for updating a Existing Item\n",
      "Enter 3 For Showing Inventory\n",
      "Enter the operation to be performed: 3\n",
      "\n",
      "\n",
      "Prod_id    Name       Rate       Quantity  \n",
      "100        Ansh       30         40        \n",
      "200        phone      10000      30        \n"
     ]
    }
   ],
   "source": [
    "print(\"Enter 1 For adding New Item\")\n",
    "print(\"Enter 2 for updating a Existing Item\")\n",
    "print(\"Enter 3 For Showing Inventory\")\n",
    "n=int(input(\"Enter the operation to be performed: \"))\n",
    "print(\"\\n\")\n",
    "if(n==1):\n",
    "    add()\n",
    "elif(n==2):\n",
    "    appendit()\n",
    "elif(n==3):\n",
    "    show()\n",
    "else:\n",
    "    print(\"Enter the Correct choice\")\n"
   ]
  },
  {
   "cell_type": "code",
   "execution_count": null,
   "id": "0bf43374",
   "metadata": {},
   "outputs": [],
   "source": []
  }
 ],
 "metadata": {
  "kernelspec": {
   "display_name": "Python 3",
   "language": "python",
   "name": "python3"
  },
  "language_info": {
   "codemirror_mode": {
    "name": "ipython",
    "version": 3
   },
   "file_extension": ".py",
   "mimetype": "text/x-python",
   "name": "python",
   "nbconvert_exporter": "python",
   "pygments_lexer": "ipython3",
   "version": "3.8.8"
  }
 },
 "nbformat": 4,
 "nbformat_minor": 5
}
